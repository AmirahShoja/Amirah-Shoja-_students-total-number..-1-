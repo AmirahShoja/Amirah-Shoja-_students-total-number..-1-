{
  "cells": [
    {
      "cell_type": "markdown",
      "metadata": {
        "id": "view-in-github",
        "colab_type": "text"
      },
      "source": [
        "<a href=\"https://colab.research.google.com/github/AmirahShoja/Amirah-Shoja-_students-total-number..-1-/blob/main/Copy_of_Fashion_MNIST_classification_with_LeNET_in_Keras_Amirah_Shoja.ipynb\" target=\"_parent\"><img src=\"https://colab.research.google.com/assets/colab-badge.svg\" alt=\"Open In Colab\"/></a>"
      ]
    },
    {
      "source": [
        "\n",
        "# IMPORTANT: RUN THIS CELL IN ORDER TO IMPORT YOUR KAGGLE DATA SOURCES\n",
        "# TO THE CORRECT LOCATION (/kaggle/input) IN YOUR NOTEBOOK,\n",
        "# THEN FEEL FREE TO DELETE THIS CELL.\n",
        "# NOTE: THIS NOTEBOOK ENVIRONMENT DIFFERS FROM KAGGLE'S PYTHON\n",
        "# ENVIRONMENT SO THERE MAY BE MISSING LIBRARIES USED BY YOUR\n",
        "# NOTEBOOK.\n",
        "\n",
        "import os\n",
        "import sys\n",
        "from tempfile import NamedTemporaryFile\n",
        "from urllib.request import urlopen\n",
        "from urllib.parse import unquote, urlparse\n",
        "from urllib.error import HTTPError\n",
        "from zipfile import ZipFile\n",
        "import tarfile\n",
        "import shutil\n",
        "\n",
        "CHUNK_SIZE = 40960\n",
        "DATA_SOURCE_MAPPING = 'fashionmnist:https%3A%2F%2Fstorage.googleapis.com%2Fkaggle-data-sets%2F2243%2F9243%2Fbundle%2Farchive.zip%3FX-Goog-Algorithm%3DGOOG4-RSA-SHA256%26X-Goog-Credential%3Dgcp-kaggle-com%2540kaggle-161607.iam.gserviceaccount.com%252F20240328%252Fauto%252Fstorage%252Fgoog4_request%26X-Goog-Date%3D20240328T213632Z%26X-Goog-Expires%3D259200%26X-Goog-SignedHeaders%3Dhost%26X-Goog-Signature%3D43479e34c0d3cc5daa2dd1d09148c1187f3a8870bc93afcd84274b3fd46fa08ca9b4abd73c09e071e82d7a1ea31e0808812817b4b0557d81c296a1759364b0946cf84a80af9c26326507780c872dc30a9bfd35dce78eb5b06f4af3aca6055035d22abdf5874457eb4346b1e606ca7c47ebfce466678deac0544b215d20734ea25477f63605db4d13a5b85f405a80f52a678ad4b3d24f9c7a00cf6ef9f6d44f495c5ca372c172ddffcd5f4bcd86e42aff86f4109ce379239489d9105201e07a40165a5cac79b6a4aba0e3c2039755a063b98103c08e1d3def6e04f77f35c5913ddd627fcc33bd92144305e3d31e92498e3d026df2033bca670c1377bb895acdb7'\n",
        "\n",
        "KAGGLE_INPUT_PATH='/kaggle/input'\n",
        "KAGGLE_WORKING_PATH='/kaggle/working'\n",
        "KAGGLE_SYMLINK='kaggle'\n",
        "\n",
        "!umount /kaggle/input/ 2> /dev/null\n",
        "shutil.rmtree('/kaggle/input', ignore_errors=True)\n",
        "os.makedirs(KAGGLE_INPUT_PATH, 0o777, exist_ok=True)\n",
        "os.makedirs(KAGGLE_WORKING_PATH, 0o777, exist_ok=True)\n",
        "\n",
        "try:\n",
        "  os.symlink(KAGGLE_INPUT_PATH, os.path.join(\"..\", 'input'), target_is_directory=True)\n",
        "except FileExistsError:\n",
        "  pass\n",
        "try:\n",
        "  os.symlink(KAGGLE_WORKING_PATH, os.path.join(\"..\", 'working'), target_is_directory=True)\n",
        "except FileExistsError:\n",
        "  pass\n",
        "\n",
        "for data_source_mapping in DATA_SOURCE_MAPPING.split(','):\n",
        "    directory, download_url_encoded = data_source_mapping.split(':')\n",
        "    download_url = unquote(download_url_encoded)\n",
        "    filename = urlparse(download_url).path\n",
        "    destination_path = os.path.join(KAGGLE_INPUT_PATH, directory)\n",
        "    try:\n",
        "        with urlopen(download_url) as fileres, NamedTemporaryFile() as tfile:\n",
        "            total_length = fileres.headers['content-length']\n",
        "            print(f'Downloading {directory}, {total_length} bytes compressed')\n",
        "            dl = 0\n",
        "            data = fileres.read(CHUNK_SIZE)\n",
        "            while len(data) > 0:\n",
        "                dl += len(data)\n",
        "                tfile.write(data)\n",
        "                done = int(50 * dl / int(total_length))\n",
        "                sys.stdout.write(f\"\\r[{'=' * done}{' ' * (50-done)}] {dl} bytes downloaded\")\n",
        "                sys.stdout.flush()\n",
        "                data = fileres.read(CHUNK_SIZE)\n",
        "            if filename.endswith('.zip'):\n",
        "              with ZipFile(tfile) as zfile:\n",
        "                zfile.extractall(destination_path)\n",
        "            else:\n",
        "              with tarfile.open(tfile.name) as tarfile:\n",
        "                tarfile.extractall(destination_path)\n",
        "            print(f'\\nDownloaded and uncompressed: {directory}')\n",
        "    except HTTPError as e:\n",
        "        print(f'Failed to load (likely expired) {download_url} to path {destination_path}')\n",
        "        continue\n",
        "    except OSError as e:\n",
        "        print(f'Failed to load {download_url} to path {destination_path}')\n",
        "        continue\n",
        "\n",
        "print('Data source import complete.')\n"
      ],
      "metadata": {
        "colab": {
          "base_uri": "https://localhost:8080/"
        },
        "id": "OEx-AzBz_kdD",
        "outputId": "b6d9e3d2-3f3c-4e19-acde-483719d184cc"
      },
      "cell_type": "code",
      "outputs": [
        {
          "output_type": "stream",
          "name": "stdout",
          "text": [
            "Downloading fashionmnist, 72114846 bytes compressed\n",
            "[==================================================] 72114846 bytes downloaded\n",
            "Downloaded and uncompressed: fashionmnist\n",
            "Data source import complete.\n"
          ]
        }
      ],
      "execution_count": null
    },
    {
      "metadata": {
        "id": "gp7UFpLy_kdH"
      },
      "cell_type": "markdown",
      "source": [
        "<a id='Top'></a>\n",
        "<center>\n",
        "<h1><u>Fashion MNIST - Building CNN in Keras step by step</u></h1>\n",
        "</center>\n",
        "<br>\n",
        "\n",
        "<!-- Start of Unsplash Embed Code - Centered (Embed code by @BirdyOz)-->\n",
        "<div style=\"width:60%; margin: 20px 20% !important;\">\n",
        "    <img src=\"https://images.unsplash.com/photo-1512436991641-6745cdb1723f?ixlib=rb-1.2.1&amp;q=80&amp;fm=jpg&amp;crop=entropy&amp;cs=tinysrgb&amp;w=720&amp;fit=max&amp;ixid=eyJhcHBfaWQiOjEyMDd9\" class=\"img-responsive img-fluid img-med\" alt=\"assorted-color clothes lot \" title=\"assorted-color clothes lot \">\n",
        "    <div class=\"text-muted\" style=\"opacity: 0.5\">\n",
        "        <small><a href=\"https://unsplash.com/photos/R2aodqJn3b8\" target=\"_blank\">Photo</a> by <a href=\"https://unsplash.com/@theburbgirl\" target=\"_blank\">@theburbgirl</a> on <a href=\"https://unsplash.com\" target=\"_blank\">Unsplash</a>, accessed 21/02/2020</small>\n",
        "    </div>\n",
        "</div>\n",
        "<!-- End of Unsplash Embed code -->\n",
        "                \n",
        "\n",
        "In this kernel I will demonstrate how to build a simple Convolutional Neural Network (CNN) step by step using Keras, along with essentials explanations on the way. I hope you will enjoy reading this kernel (and don't forget to upvote it if you like it).\n",
        "\n",
        "**Introduction to Zalando Fashion MNIST**\n",
        "\n",
        "Zalando is a Germany-based (Berlin) fashion e-commerce company operating in many European countries. Because astandard MNIST dataset id currently a trivial task for most of the state-of-art neural nets Zalando decided to create a bit more challenging set. Detailed information about \"Zalando Fashion MNIST\" initiative you can find on their [official GitHub profile](https://github.com/zalandoresearch/fashion-mnist).\n",
        "\n",
        "**Why CNN?**\n",
        "\n",
        "CNN is a class of Neural Networks excelling in the classification of images (and other tasks related to images). It is based on partially connected layers (in contrast to fully-connected) and is currently a state-of-the art algorithm to perform this image-related tasks. Note that it is also technically possible to use fully connected layers but it is sub-optimal approach due to a huge number of parameters it needs to learn.\n",
        "\n",
        "**Why Keras?**\n",
        "\n",
        "Keras is user-friendly, modular and high-level neural network APIs. It makes reading code, building models and learning very easy. It works with TensorFlow, CNTK, Theano, MXNet, and PlaidML. More about Keras you can read the official [keras webpage](https://keras.io/) or in the [TensorFlow Guide to High-Level APIs](https://www.tensorflow.org/guide/keras).\n",
        "\n",
        "**CONTENT**\n",
        "- <a href='#1'>1. Exploring data</a>\n",
        "- <a href='#2'>2. Preparing data</a>\n",
        "     - <a href='#2.1'>2.1 Changing dataframe to Numpy arrays</a>\n",
        "     - <a href='#2.2'>2.2 Splitting data into train and validation sets</a>\n",
        "     - <a href='#2.2'>2.3 Reshaping and splitting data for Convolution Neural Network</a>\n",
        "- <a href='#3'>3. Building CNN</a>\n",
        "     - <a href='#3.1'>3.1 Importing necessary modules</a>\n",
        "     - <a href='#3.2'>3.2 Defining the CNN architecture</a>\n",
        "     - <a href='#3.3'>3.3 Compiling model</a>\n",
        "     - <a href='#3.4'>3.4 Summarising model</a>\n",
        "     - <a href='#3.5'>3.5 Fitting model to training data</a>\n",
        "     - <a href='#3.6'>3.6 Evaluating model with test data</a>\n",
        "- <a href='#4'>4. Tracking learning</a>"
      ]
    },
    {
      "metadata": {
        "id": "9700C5V5_kdJ"
      },
      "cell_type": "markdown",
      "source": [
        "## <a id='1'>1. Exploring Data</a>"
      ]
    },
    {
      "metadata": {
        "_uuid": "8f2839f25d086af736a60e9eeb907d3b93b6e0e5",
        "_cell_guid": "b1076dfc-b9ad-4769-8c92-a6c4dae69d19",
        "trusted": true,
        "colab": {
          "base_uri": "https://localhost:8080/"
        },
        "id": "G5MDuU96_kdJ",
        "outputId": "fb44d620-dcf6-43e1-b139-9360d5ae0714"
      },
      "cell_type": "code",
      "source": [
        "import numpy as np                                   # linear algebra\n",
        "import pandas as pd                                  # data processing, CSV file I/O (e.g. pd.read_csv)\n",
        "import matplotlib.pyplot as plt                      # library used for plotting data\n",
        "from sklearn.model_selection import train_test_split # method used for splitting data set into trining and testing sets\n",
        "import warnings                                      # libraries to deal with warnings\n",
        "warnings.filterwarnings(\"ignore\")\n",
        "\n",
        "print(\"numpy version:\", np.__version__)\n",
        "print(\"pandas version:\", pd.__version__)"
      ],
      "execution_count": null,
      "outputs": [
        {
          "output_type": "stream",
          "name": "stdout",
          "text": [
            "numpy version: 1.25.2\n",
            "pandas version: 1.5.3\n"
          ]
        }
      ]
    },
    {
      "metadata": {
        "id": "NTPCoi1r_kdK"
      },
      "cell_type": "markdown",
      "source": [
        "Loading .csv files into pandas dataframe."
      ]
    },
    {
      "metadata": {
        "_uuid": "d629ff2d2480ee46fbb7e2d37f6b5fab8052498a",
        "_cell_guid": "79c7e3d0-c299-4dcb-8224-4455121ee9b0",
        "trusted": true,
        "id": "SObC66cF_kdK"
      },
      "cell_type": "code",
      "source": [
        "raw_data_train = pd.read_csv(\"/content/fashion-mnist_train.csv\")\n",
        "raw_data_test = pd.read_csv('/content/fashion-mnist_test.csv')"
      ],
      "execution_count": null,
      "outputs": []
    },
    {
      "metadata": {
        "id": "BTejJyKS_kdL"
      },
      "cell_type": "markdown",
      "source": [
        "Looking at the head of our database."
      ]
    },
    {
      "metadata": {
        "trusted": true,
        "colab": {
          "base_uri": "https://localhost:8080/",
          "height": 255
        },
        "id": "AhlmIYt5_kdL",
        "outputId": "dcf823d6-ec05-476c-af6b-9efbd02b5d80"
      },
      "cell_type": "code",
      "source": [
        "raw_data_train.head()"
      ],
      "execution_count": null,
      "outputs": [
        {
          "output_type": "execute_result",
          "data": {
            "text/plain": [
              "   label  pixel1  pixel2  pixel3  pixel4  pixel5  pixel6  pixel7  pixel8  \\\n",
              "0      2       0       0       0       0       0       0       0       0   \n",
              "1      9       0       0       0       0       0       0       0       0   \n",
              "2      6       0       0       0       0       0       0       0       5   \n",
              "3      0       0       0       0       1       2       0       0       0   \n",
              "4      3       0       0       0       0       0       0       0       0   \n",
              "\n",
              "   pixel9  ...  pixel775  pixel776  pixel777  pixel778  pixel779  pixel780  \\\n",
              "0       0  ...       0.0       0.0       0.0       0.0       0.0       0.0   \n",
              "1       0  ...       0.0       0.0       0.0       0.0       0.0       0.0   \n",
              "2       0  ...       0.0       0.0       0.0      30.0      43.0       0.0   \n",
              "3       0  ...       3.0       0.0       0.0       0.0       0.0       1.0   \n",
              "4       0  ...       0.0       0.0       0.0       0.0       0.0       0.0   \n",
              "\n",
              "   pixel781  pixel782  pixel783  pixel784  \n",
              "0       0.0       0.0       0.0       0.0  \n",
              "1       0.0       0.0       0.0       0.0  \n",
              "2       0.0       0.0       0.0       0.0  \n",
              "3       0.0       0.0       0.0       0.0  \n",
              "4       0.0       0.0       0.0       0.0  \n",
              "\n",
              "[5 rows x 785 columns]"
            ],
            "text/html": [
              "\n",
              "  <div id=\"df-f4493f34-6c6e-4a0c-8577-a5445dfa52e1\" class=\"colab-df-container\">\n",
              "    <div>\n",
              "<style scoped>\n",
              "    .dataframe tbody tr th:only-of-type {\n",
              "        vertical-align: middle;\n",
              "    }\n",
              "\n",
              "    .dataframe tbody tr th {\n",
              "        vertical-align: top;\n",
              "    }\n",
              "\n",
              "    .dataframe thead th {\n",
              "        text-align: right;\n",
              "    }\n",
              "</style>\n",
              "<table border=\"1\" class=\"dataframe\">\n",
              "  <thead>\n",
              "    <tr style=\"text-align: right;\">\n",
              "      <th></th>\n",
              "      <th>label</th>\n",
              "      <th>pixel1</th>\n",
              "      <th>pixel2</th>\n",
              "      <th>pixel3</th>\n",
              "      <th>pixel4</th>\n",
              "      <th>pixel5</th>\n",
              "      <th>pixel6</th>\n",
              "      <th>pixel7</th>\n",
              "      <th>pixel8</th>\n",
              "      <th>pixel9</th>\n",
              "      <th>...</th>\n",
              "      <th>pixel775</th>\n",
              "      <th>pixel776</th>\n",
              "      <th>pixel777</th>\n",
              "      <th>pixel778</th>\n",
              "      <th>pixel779</th>\n",
              "      <th>pixel780</th>\n",
              "      <th>pixel781</th>\n",
              "      <th>pixel782</th>\n",
              "      <th>pixel783</th>\n",
              "      <th>pixel784</th>\n",
              "    </tr>\n",
              "  </thead>\n",
              "  <tbody>\n",
              "    <tr>\n",
              "      <th>0</th>\n",
              "      <td>2</td>\n",
              "      <td>0</td>\n",
              "      <td>0</td>\n",
              "      <td>0</td>\n",
              "      <td>0</td>\n",
              "      <td>0</td>\n",
              "      <td>0</td>\n",
              "      <td>0</td>\n",
              "      <td>0</td>\n",
              "      <td>0</td>\n",
              "      <td>...</td>\n",
              "      <td>0.0</td>\n",
              "      <td>0.0</td>\n",
              "      <td>0.0</td>\n",
              "      <td>0.0</td>\n",
              "      <td>0.0</td>\n",
              "      <td>0.0</td>\n",
              "      <td>0.0</td>\n",
              "      <td>0.0</td>\n",
              "      <td>0.0</td>\n",
              "      <td>0.0</td>\n",
              "    </tr>\n",
              "    <tr>\n",
              "      <th>1</th>\n",
              "      <td>9</td>\n",
              "      <td>0</td>\n",
              "      <td>0</td>\n",
              "      <td>0</td>\n",
              "      <td>0</td>\n",
              "      <td>0</td>\n",
              "      <td>0</td>\n",
              "      <td>0</td>\n",
              "      <td>0</td>\n",
              "      <td>0</td>\n",
              "      <td>...</td>\n",
              "      <td>0.0</td>\n",
              "      <td>0.0</td>\n",
              "      <td>0.0</td>\n",
              "      <td>0.0</td>\n",
              "      <td>0.0</td>\n",
              "      <td>0.0</td>\n",
              "      <td>0.0</td>\n",
              "      <td>0.0</td>\n",
              "      <td>0.0</td>\n",
              "      <td>0.0</td>\n",
              "    </tr>\n",
              "    <tr>\n",
              "      <th>2</th>\n",
              "      <td>6</td>\n",
              "      <td>0</td>\n",
              "      <td>0</td>\n",
              "      <td>0</td>\n",
              "      <td>0</td>\n",
              "      <td>0</td>\n",
              "      <td>0</td>\n",
              "      <td>0</td>\n",
              "      <td>5</td>\n",
              "      <td>0</td>\n",
              "      <td>...</td>\n",
              "      <td>0.0</td>\n",
              "      <td>0.0</td>\n",
              "      <td>0.0</td>\n",
              "      <td>30.0</td>\n",
              "      <td>43.0</td>\n",
              "      <td>0.0</td>\n",
              "      <td>0.0</td>\n",
              "      <td>0.0</td>\n",
              "      <td>0.0</td>\n",
              "      <td>0.0</td>\n",
              "    </tr>\n",
              "    <tr>\n",
              "      <th>3</th>\n",
              "      <td>0</td>\n",
              "      <td>0</td>\n",
              "      <td>0</td>\n",
              "      <td>0</td>\n",
              "      <td>1</td>\n",
              "      <td>2</td>\n",
              "      <td>0</td>\n",
              "      <td>0</td>\n",
              "      <td>0</td>\n",
              "      <td>0</td>\n",
              "      <td>...</td>\n",
              "      <td>3.0</td>\n",
              "      <td>0.0</td>\n",
              "      <td>0.0</td>\n",
              "      <td>0.0</td>\n",
              "      <td>0.0</td>\n",
              "      <td>1.0</td>\n",
              "      <td>0.0</td>\n",
              "      <td>0.0</td>\n",
              "      <td>0.0</td>\n",
              "      <td>0.0</td>\n",
              "    </tr>\n",
              "    <tr>\n",
              "      <th>4</th>\n",
              "      <td>3</td>\n",
              "      <td>0</td>\n",
              "      <td>0</td>\n",
              "      <td>0</td>\n",
              "      <td>0</td>\n",
              "      <td>0</td>\n",
              "      <td>0</td>\n",
              "      <td>0</td>\n",
              "      <td>0</td>\n",
              "      <td>0</td>\n",
              "      <td>...</td>\n",
              "      <td>0.0</td>\n",
              "      <td>0.0</td>\n",
              "      <td>0.0</td>\n",
              "      <td>0.0</td>\n",
              "      <td>0.0</td>\n",
              "      <td>0.0</td>\n",
              "      <td>0.0</td>\n",
              "      <td>0.0</td>\n",
              "      <td>0.0</td>\n",
              "      <td>0.0</td>\n",
              "    </tr>\n",
              "  </tbody>\n",
              "</table>\n",
              "<p>5 rows × 785 columns</p>\n",
              "</div>\n",
              "    <div class=\"colab-df-buttons\">\n",
              "\n",
              "  <div class=\"colab-df-container\">\n",
              "    <button class=\"colab-df-convert\" onclick=\"convertToInteractive('df-f4493f34-6c6e-4a0c-8577-a5445dfa52e1')\"\n",
              "            title=\"Convert this dataframe to an interactive table.\"\n",
              "            style=\"display:none;\">\n",
              "\n",
              "  <svg xmlns=\"http://www.w3.org/2000/svg\" height=\"24px\" viewBox=\"0 -960 960 960\">\n",
              "    <path d=\"M120-120v-720h720v720H120Zm60-500h600v-160H180v160Zm220 220h160v-160H400v160Zm0 220h160v-160H400v160ZM180-400h160v-160H180v160Zm440 0h160v-160H620v160ZM180-180h160v-160H180v160Zm440 0h160v-160H620v160Z\"/>\n",
              "  </svg>\n",
              "    </button>\n",
              "\n",
              "  <style>\n",
              "    .colab-df-container {\n",
              "      display:flex;\n",
              "      gap: 12px;\n",
              "    }\n",
              "\n",
              "    .colab-df-convert {\n",
              "      background-color: #E8F0FE;\n",
              "      border: none;\n",
              "      border-radius: 50%;\n",
              "      cursor: pointer;\n",
              "      display: none;\n",
              "      fill: #1967D2;\n",
              "      height: 32px;\n",
              "      padding: 0 0 0 0;\n",
              "      width: 32px;\n",
              "    }\n",
              "\n",
              "    .colab-df-convert:hover {\n",
              "      background-color: #E2EBFA;\n",
              "      box-shadow: 0px 1px 2px rgba(60, 64, 67, 0.3), 0px 1px 3px 1px rgba(60, 64, 67, 0.15);\n",
              "      fill: #174EA6;\n",
              "    }\n",
              "\n",
              "    .colab-df-buttons div {\n",
              "      margin-bottom: 4px;\n",
              "    }\n",
              "\n",
              "    [theme=dark] .colab-df-convert {\n",
              "      background-color: #3B4455;\n",
              "      fill: #D2E3FC;\n",
              "    }\n",
              "\n",
              "    [theme=dark] .colab-df-convert:hover {\n",
              "      background-color: #434B5C;\n",
              "      box-shadow: 0px 1px 3px 1px rgba(0, 0, 0, 0.15);\n",
              "      filter: drop-shadow(0px 1px 2px rgba(0, 0, 0, 0.3));\n",
              "      fill: #FFFFFF;\n",
              "    }\n",
              "  </style>\n",
              "\n",
              "    <script>\n",
              "      const buttonEl =\n",
              "        document.querySelector('#df-f4493f34-6c6e-4a0c-8577-a5445dfa52e1 button.colab-df-convert');\n",
              "      buttonEl.style.display =\n",
              "        google.colab.kernel.accessAllowed ? 'block' : 'none';\n",
              "\n",
              "      async function convertToInteractive(key) {\n",
              "        const element = document.querySelector('#df-f4493f34-6c6e-4a0c-8577-a5445dfa52e1');\n",
              "        const dataTable =\n",
              "          await google.colab.kernel.invokeFunction('convertToInteractive',\n",
              "                                                    [key], {});\n",
              "        if (!dataTable) return;\n",
              "\n",
              "        const docLinkHtml = 'Like what you see? Visit the ' +\n",
              "          '<a target=\"_blank\" href=https://colab.research.google.com/notebooks/data_table.ipynb>data table notebook</a>'\n",
              "          + ' to learn more about interactive tables.';\n",
              "        element.innerHTML = '';\n",
              "        dataTable['output_type'] = 'display_data';\n",
              "        await google.colab.output.renderOutput(dataTable, element);\n",
              "        const docLink = document.createElement('div');\n",
              "        docLink.innerHTML = docLinkHtml;\n",
              "        element.appendChild(docLink);\n",
              "      }\n",
              "    </script>\n",
              "  </div>\n",
              "\n",
              "\n",
              "<div id=\"df-53499271-c341-4a96-a021-c54cccb07083\">\n",
              "  <button class=\"colab-df-quickchart\" onclick=\"quickchart('df-53499271-c341-4a96-a021-c54cccb07083')\"\n",
              "            title=\"Suggest charts\"\n",
              "            style=\"display:none;\">\n",
              "\n",
              "<svg xmlns=\"http://www.w3.org/2000/svg\" height=\"24px\"viewBox=\"0 0 24 24\"\n",
              "     width=\"24px\">\n",
              "    <g>\n",
              "        <path d=\"M19 3H5c-1.1 0-2 .9-2 2v14c0 1.1.9 2 2 2h14c1.1 0 2-.9 2-2V5c0-1.1-.9-2-2-2zM9 17H7v-7h2v7zm4 0h-2V7h2v10zm4 0h-2v-4h2v4z\"/>\n",
              "    </g>\n",
              "</svg>\n",
              "  </button>\n",
              "\n",
              "<style>\n",
              "  .colab-df-quickchart {\n",
              "      --bg-color: #E8F0FE;\n",
              "      --fill-color: #1967D2;\n",
              "      --hover-bg-color: #E2EBFA;\n",
              "      --hover-fill-color: #174EA6;\n",
              "      --disabled-fill-color: #AAA;\n",
              "      --disabled-bg-color: #DDD;\n",
              "  }\n",
              "\n",
              "  [theme=dark] .colab-df-quickchart {\n",
              "      --bg-color: #3B4455;\n",
              "      --fill-color: #D2E3FC;\n",
              "      --hover-bg-color: #434B5C;\n",
              "      --hover-fill-color: #FFFFFF;\n",
              "      --disabled-bg-color: #3B4455;\n",
              "      --disabled-fill-color: #666;\n",
              "  }\n",
              "\n",
              "  .colab-df-quickchart {\n",
              "    background-color: var(--bg-color);\n",
              "    border: none;\n",
              "    border-radius: 50%;\n",
              "    cursor: pointer;\n",
              "    display: none;\n",
              "    fill: var(--fill-color);\n",
              "    height: 32px;\n",
              "    padding: 0;\n",
              "    width: 32px;\n",
              "  }\n",
              "\n",
              "  .colab-df-quickchart:hover {\n",
              "    background-color: var(--hover-bg-color);\n",
              "    box-shadow: 0 1px 2px rgba(60, 64, 67, 0.3), 0 1px 3px 1px rgba(60, 64, 67, 0.15);\n",
              "    fill: var(--button-hover-fill-color);\n",
              "  }\n",
              "\n",
              "  .colab-df-quickchart-complete:disabled,\n",
              "  .colab-df-quickchart-complete:disabled:hover {\n",
              "    background-color: var(--disabled-bg-color);\n",
              "    fill: var(--disabled-fill-color);\n",
              "    box-shadow: none;\n",
              "  }\n",
              "\n",
              "  .colab-df-spinner {\n",
              "    border: 2px solid var(--fill-color);\n",
              "    border-color: transparent;\n",
              "    border-bottom-color: var(--fill-color);\n",
              "    animation:\n",
              "      spin 1s steps(1) infinite;\n",
              "  }\n",
              "\n",
              "  @keyframes spin {\n",
              "    0% {\n",
              "      border-color: transparent;\n",
              "      border-bottom-color: var(--fill-color);\n",
              "      border-left-color: var(--fill-color);\n",
              "    }\n",
              "    20% {\n",
              "      border-color: transparent;\n",
              "      border-left-color: var(--fill-color);\n",
              "      border-top-color: var(--fill-color);\n",
              "    }\n",
              "    30% {\n",
              "      border-color: transparent;\n",
              "      border-left-color: var(--fill-color);\n",
              "      border-top-color: var(--fill-color);\n",
              "      border-right-color: var(--fill-color);\n",
              "    }\n",
              "    40% {\n",
              "      border-color: transparent;\n",
              "      border-right-color: var(--fill-color);\n",
              "      border-top-color: var(--fill-color);\n",
              "    }\n",
              "    60% {\n",
              "      border-color: transparent;\n",
              "      border-right-color: var(--fill-color);\n",
              "    }\n",
              "    80% {\n",
              "      border-color: transparent;\n",
              "      border-right-color: var(--fill-color);\n",
              "      border-bottom-color: var(--fill-color);\n",
              "    }\n",
              "    90% {\n",
              "      border-color: transparent;\n",
              "      border-bottom-color: var(--fill-color);\n",
              "    }\n",
              "  }\n",
              "</style>\n",
              "\n",
              "  <script>\n",
              "    async function quickchart(key) {\n",
              "      const quickchartButtonEl =\n",
              "        document.querySelector('#' + key + ' button');\n",
              "      quickchartButtonEl.disabled = true;  // To prevent multiple clicks.\n",
              "      quickchartButtonEl.classList.add('colab-df-spinner');\n",
              "      try {\n",
              "        const charts = await google.colab.kernel.invokeFunction(\n",
              "            'suggestCharts', [key], {});\n",
              "      } catch (error) {\n",
              "        console.error('Error during call to suggestCharts:', error);\n",
              "      }\n",
              "      quickchartButtonEl.classList.remove('colab-df-spinner');\n",
              "      quickchartButtonEl.classList.add('colab-df-quickchart-complete');\n",
              "    }\n",
              "    (() => {\n",
              "      let quickchartButtonEl =\n",
              "        document.querySelector('#df-53499271-c341-4a96-a021-c54cccb07083 button');\n",
              "      quickchartButtonEl.style.display =\n",
              "        google.colab.kernel.accessAllowed ? 'block' : 'none';\n",
              "    })();\n",
              "  </script>\n",
              "</div>\n",
              "\n",
              "    </div>\n",
              "  </div>\n"
            ],
            "application/vnd.google.colaboratory.intrinsic+json": {
              "type": "dataframe",
              "variable_name": "raw_data_train"
            }
          },
          "metadata": {},
          "execution_count": 29
        }
      ]
    },
    {
      "metadata": {
        "trusted": true,
        "colab": {
          "base_uri": "https://localhost:8080/"
        },
        "id": "agemmSji_kdM",
        "outputId": "8c072306-7fcd-481d-b068-4d15cbb86868"
      },
      "cell_type": "code",
      "source": [
        "len(raw_data_train)"
      ],
      "execution_count": null,
      "outputs": [
        {
          "output_type": "execute_result",
          "data": {
            "text/plain": [
              "14673"
            ]
          },
          "metadata": {},
          "execution_count": 30
        }
      ]
    },
    {
      "metadata": {
        "id": "6Eedb9yQ_kdM"
      },
      "cell_type": "markdown",
      "source": [
        "Desired types of data here are int64 or uint64."
      ]
    },
    {
      "metadata": {
        "trusted": true,
        "colab": {
          "base_uri": "https://localhost:8080/"
        },
        "id": "W9O5dHaQ_kdN",
        "outputId": "d4c3f628-bad4-456e-862a-ff0026c06eca"
      },
      "cell_type": "code",
      "source": [
        "raw_data_train.dtypes.unique()"
      ],
      "execution_count": null,
      "outputs": [
        {
          "output_type": "execute_result",
          "data": {
            "text/plain": [
              "array([dtype('int64'), dtype('float64')], dtype=object)"
            ]
          },
          "metadata": {},
          "execution_count": 31
        }
      ]
    },
    {
      "metadata": {
        "id": "MIMNPU1T_kdN"
      },
      "cell_type": "markdown",
      "source": [
        "It's worth to look at histogram of pixels distribution. I will do it for a subset of 1000 images using matplotlib histogram function (use parameter *histtype=\"step\"* to reduce the computational time)."
      ]
    },
    {
      "metadata": {
        "trusted": true,
        "colab": {
          "base_uri": "https://localhost:8080/",
          "height": 445
        },
        "id": "CnQgxD_Q_kdN",
        "outputId": "ea3ddc41-6600-4b97-b539-80c39e76f333"
      },
      "cell_type": "code",
      "source": [
        "subset_1 = raw_data_train.iloc[:1000,1:]\n",
        "plt.subplots(figsize=(10,5))\n",
        "plt.hist(subset_1, bins=256, fc='k', ec='k',histtype='step')\n",
        "plt.show()"
      ],
      "execution_count": null,
      "outputs": [
        {
          "output_type": "display_data",
          "data": {
            "text/plain": [
              "<Figure size 1000x500 with 1 Axes>"
            ],
            "image/png": "[encoded data removed]"
          },
          "metadata": {}
        }
      ]
    },
    {
      "metadata": {
        "id": "5W3u3UsO_kdN"
      },
      "cell_type": "markdown",
      "source": [
        "Let's visualise the first nine pictures in the raw training database. As each image is stored in a separate row we have to resize it from the flat array back to 28x28 array. Above each picture a abel will be displayed.\n",
        "\n",
        "| Class |    Label    | Class |    Label   |\n",
        "|:-----:|:-----------:|:-----:|:----------:|\n",
        "|   1   | T-shirt/top |   6   |   Sandal   |\n",
        "|   2   |   Trouser   |   7   |    Shirt   |\n",
        "|   3   |   Pullover  |   8   |   Sneaker  |\n",
        "|   4   |    Dress    |   9   |     Bag    |\n",
        "|   5   |     Coat    |   10  | Ankle boot |"
      ]
    },
    {
      "metadata": {
        "trusted": true,
        "colab": {
          "base_uri": "https://localhost:8080/",
          "height": 750
        },
        "id": "4ob8E0BP_kdN",
        "outputId": "4122e020-685e-4cdb-a7c7-8c0f9b87045d"
      },
      "cell_type": "code",
      "source": [
        "class_names = ['T-shirt/top', 'Trouser', 'Pullover', 'Dress', 'Coat',\n",
        "               'Sandal', 'Shirt', 'Sneaker', 'Bag', 'Ankle boot']\n",
        "\n",
        "plt.figure(figsize=(12,9))\n",
        "for i in range(0,12):\n",
        "    plt.subplot(3,4,i+1)\n",
        "    image_resized = np.resize(raw_data_train.iloc[i,1:].values,(28,28))\n",
        "    plt.title(class_names[raw_data_train.iloc[i,0]])\n",
        "    plt.imshow(image_resized, cmap='gray', interpolation='none')\n",
        "    plt.axis('off')"
      ],
      "execution_count": null,
      "outputs": [
        {
          "output_type": "display_data",
          "data": {
            "text/plain": [
              "<Figure size 1200x900 with 12 Axes>"
            ],
            "image/png": "[encoded data removed]"
          },
          "metadata": {}
        }
      ]
    },
    {
      "metadata": {
        "id": "v0XoMDkT_kdO"
      },
      "cell_type": "markdown",
      "source": [
        "## <a id='2'>2. Preparing Data</a>\n",
        "\n",
        "In this chapter a basic preparation of data will be conducted."
      ]
    },
    {
      "metadata": {
        "id": "jMxK_6LH_kdO"
      },
      "cell_type": "markdown",
      "source": [
        "### <a id='2.1'>2.1 Changing dataframe to numpy arrays</a>\n",
        "\n",
        "The images' labels are stored in the first column of the dataframe. These data are categorical so we have to one-hot encode labels: we can do it either by using keras [to_categorical](https://www.tensorflow.org/api_docs/python/tf/keras/utils/to_categorical), pandas [get_dummies](https://pandas.pydata.org/pandas-docs/stable/reference/api/pandas.get_dummies.html) or sklearn [OneHotEncoder](https://scikit-learn.org/stable/modules/generated/sklearn.preprocessing.OneHotEncoder.html) functions."
      ]
    },
    {
      "metadata": {
        "trusted": true,
        "id": "UQT6_lVd_kdO"
      },
      "cell_type": "code",
      "source": [
        "X = np.array(raw_data_train.iloc[:, 1:])\n",
        "y = pd.get_dummies(np.array(raw_data_train.iloc[:, 0]))\n",
        "\n",
        "# alternative:\n",
        "#from keras.utils import to_categorical\n",
        "#y = to_categorical(np.array(raw_data_train.iloc[:, 0]))"
      ],
      "execution_count": null,
      "outputs": []
    },
    {
      "metadata": {
        "id": "hRCvYWKf_kdO"
      },
      "cell_type": "markdown",
      "source": [
        "### <a id='2.2'>2.2 Splitting data into train and validation sets</a>\n",
        "\n",
        "Sklearn [train_test_split](https://scikit-learn.org/stable/modules/generated/sklearn.model_selection.train_test_split.html) will be used to perform this operation. In this case, it will be more like train-validation split as this validation set will be used during the compilation of the model. The real test set is given to us in a separate .csv file."
      ]
    },
    {
      "metadata": {
        "trusted": true,
        "id": "5F8WHvGJ_kdP"
      },
      "cell_type": "code",
      "source": [
        "X_train, X_validate, y_train, y_validate = train_test_split(X, y, test_size=0.2, random_state=12)"
      ],
      "execution_count": null,
      "outputs": []
    },
    {
      "metadata": {
        "id": "u2EEjAJ8_kdP"
      },
      "cell_type": "markdown",
      "source": [
        "### <a id='2.3'>2.3 Reshaping and splitting data for Convolution Neural Network</a>\n",
        "\n",
        "**Reshaping**: We have 28x28 pixels, black and white (1 channel only) pictures. Note that for a colored images we would have 3 channels (RGB).\n",
        "\n",
        "**Splitting**: To build a well-functioning CNN model you have to follow a procedure of splitting your data into three sets: training, validation and test. In this case, I will create the validation set explicitly but if data are shuffled you can use simply *validation_split* parameter when fitting the model. More about how to create a validation set and why you need it is explained nicely on YouTube [here](https://www.youtube.com/watch?v=dzoh8cfnvnI&feature=youtu.be)."
      ]
    },
    {
      "metadata": {
        "trusted": true,
        "colab": {
          "base_uri": "https://localhost:8080/"
        },
        "id": "Gzli64ZU_kdP",
        "outputId": "db5c5be3-d971-457f-8133-ea52ec5ea336"
      },
      "cell_type": "code",
      "source": [
        "im_rows, im_cols = 28, 28\n",
        "input_shape = (im_rows, im_cols, 1)\n",
        "\n",
        "# Test data\n",
        "X_test = np.array(raw_data_test.iloc[:, 1:])\n",
        "y_test = pd.get_dummies(np.array(raw_data_test.iloc[:, 0]))\n",
        "\n",
        "# train and validate sets\n",
        "X_train = X_train.reshape(X_train.shape[0], im_rows, im_cols, 1)\n",
        "X_validate = X_validate.reshape(X_validate.shape[0], im_rows, im_cols, 1)\n",
        "X_test = X_test.reshape(X_test.shape[0], im_rows, im_cols, 1)\n",
        "\n",
        "# normalisation\n",
        "X_train = X_train/255\n",
        "X_validate = X_validate/255\n",
        "X_test = X_test/255\n",
        "\n",
        "print(\"X_train shape:\", X_train.shape)\n",
        "print(\"X_validate shape:\", X_validate.shape)\n",
        "print(\"X_test shape:\", X_test.shape)\n",
        "print(\"y_train shape:\", y_train.shape)\n",
        "print(\"y_validate shape:\", y_validate.shape)\n",
        "print(\"y_test shape:\", y_test.shape)"
      ],
      "execution_count": null,
      "outputs": [
        {
          "output_type": "stream",
          "name": "stdout",
          "text": [
            "X_train shape: (11738, 28, 28, 1)\n",
            "X_validate shape: (2935, 28, 28, 1)\n",
            "X_test shape: (10000, 28, 28, 1)\n",
            "y_train shape: (11738, 10)\n",
            "y_validate shape: (2935, 10)\n",
            "y_test shape: (10000, 10)\n"
          ]
        }
      ]
    },
    {
      "metadata": {
        "id": "FS97V5hn_kdP"
      },
      "cell_type": "markdown",
      "source": [
        "## <a id='3'>3. Building CNN</a>\n",
        "\n",
        "In this chapter the CNN model will be built and run."
      ]
    },
    {
      "metadata": {
        "id": "kGtOGepn_kdP"
      },
      "cell_type": "markdown",
      "source": [
        "### <a id='3.1'>3.1 Importing necessary modules</a>"
      ]
    },
    {
      "metadata": {
        "trusted": true,
        "colab": {
          "base_uri": "https://localhost:8080/"
        },
        "id": "Rnyz3z8s_kdQ",
        "outputId": "068d2b67-2578-495f-cf95-50f23173af97"
      },
      "cell_type": "code",
      "source": [
        "import keras # main keras package\n",
        "from keras.models import Sequential # sequential model\n",
        "from keras.layers import Dropout, Flatten, AveragePooling2D # layers with layers operations\n",
        "from keras.layers import Dense,Conv2D  # layers types\n",
        "\n",
        "\n",
        "print(\"Keras version:\", keras.__version__)"
      ],
      "execution_count": null,
      "outputs": [
        {
          "output_type": "stream",
          "name": "stdout",
          "text": [
            "Keras version: 2.15.0\n"
          ]
        }
      ]
    },
    {
      "metadata": {
        "id": "Dsyf1i81_kdQ"
      },
      "cell_type": "markdown",
      "source": [
        "### <a id='3.2'>3.2 Defining the CNN architecture - LeNET</a>\n",
        "\n",
        "LeNet architecture does not contain dropouts or max pooling operations which are common in modern architectures.\n",
        "\n",
        "A **max pooling** layer reduces the number of parameters in the layer by extracting the maximum value from a \"patch\" of a specified size (e.g. 2X2 pixels) and reducing layers size in such a way. There are also option to use the minimum value or the average one.\n",
        "\n",
        "A **dropout** operation \"kills\" specified percentage of neurons (units) on a given layer to prevent overfitting.\n",
        "In order to prevent overfitting, you can also use a Batch Normalisation but it is not recommended to use dropouts and batch normalisation in a single model. This is so-called \"disharmony\" of dropout and batch normalization."
      ]
    },
    {
      "metadata": {
        "trusted": true,
        "id": "67q5QVwu_kdQ"
      },
      "cell_type": "code",
      "source": [
        "num_classes = 10\n",
        "\n",
        "model = Sequential()\n",
        "\n",
        "model.add(Conv2D(6, kernel_size=(3, 3), activation='relu', input_shape=(28,28,1)))\n",
        "model.add(AveragePooling2D())\n",
        "\n",
        "model.add(Conv2D(16, kernel_size=(3, 3), activation='relu'))\n",
        "model.add(AveragePooling2D())\n",
        "\n",
        "model.add(Flatten())\n",
        "\n",
        "model.add(Dense(120, activation='relu'))\n",
        "\n",
        "model.add(Dense(84, activation='relu'))\n",
        "\n",
        "model.add(Dense(num_classes, activation = 'softmax'))"
      ],
      "execution_count": null,
      "outputs": []
    },
    {
      "metadata": {
        "id": "GJM3CHpk_kdQ"
      },
      "cell_type": "markdown",
      "source": [
        "### <a id='3.3'>3.3 Compiling model</a>\n",
        "\n",
        "CNN model has now to be compiled. To do so I will use:\n",
        "* ADAM (ADAptive Moment estimation) **optimiser** - you can read more about this optimiser, e.g. [here](adaptive moment estimation).\n",
        "* My **loss function** (what it is you can read [here](https://machinelearningmastery.com/loss-and-loss-functions-for-training-deep-learning-neural-networks/)) will be *categorical_crossentropy* (other options are explained [here](https://gombru.github.io/2018/05/23/cross_entropy_loss/) - careful math ahead!)\n",
        "* **Metric** will be *accuracy*"
      ]
    },
    {
      "metadata": {
        "trusted": true,
        "id": "_ODUwgYJ_kdQ"
      },
      "cell_type": "code",
      "source": [
        "model.compile(optimizer=\"adam\",\n",
        "              loss=\"categorical_crossentropy\",\n",
        "              metrics=[\"accuracy\"])"
      ],
      "execution_count": null,
      "outputs": []
    },
    {
      "metadata": {
        "id": "lhOXLXXI_kdQ"
      },
      "cell_type": "markdown",
      "source": [
        "### <a id='3.4'>3.4 Summarising model</a>\n",
        "\n",
        "It is worth to summarise the model to see how many trainable parameters our model contains - this has a direct impact on computational power required."
      ]
    },
    {
      "metadata": {
        "trusted": true,
        "colab": {
          "base_uri": "https://localhost:8080/"
        },
        "id": "hbhmA0kp_kdQ",
        "outputId": "8b0585df-95a4-4ee4-e27d-1640d7db1a65"
      },
      "cell_type": "code",
      "source": [
        "model.summary()"
      ],
      "execution_count": null,
      "outputs": [
        {
          "output_type": "stream",
          "name": "stdout",
          "text": [
            "Model: \"sequential\"\n",
            "_________________________________________________________________\n",
            " Layer (type)                Output Shape              Param #   \n",
            "=================================================================\n",
            " conv2d (Conv2D)             (None, 26, 26, 6)         60        \n",
            "                                                                 \n",
            " average_pooling2d (Average  (None, 13, 13, 6)         0         \n",
            " Pooling2D)                                                      \n",
            "                                                                 \n",
            " conv2d_1 (Conv2D)           (None, 11, 11, 16)        880       \n",
            "                                                                 \n",
            " average_pooling2d_1 (Avera  (None, 5, 5, 16)          0         \n",
            " gePooling2D)                                                    \n",
            "                                                                 \n",
            " flatten (Flatten)           (None, 400)               0         \n",
            "                                                                 \n",
            " dense (Dense)               (None, 120)               48120     \n",
            "                                                                 \n",
            " dense_1 (Dense)             (None, 84)                10164     \n",
            "                                                                 \n",
            " dense_2 (Dense)             (None, 10)                850       \n",
            "                                                                 \n",
            "=================================================================\n",
            "Total params: 60074 (234.66 KB)\n",
            "Trainable params: 60074 (234.66 KB)\n",
            "Non-trainable params: 0 (0.00 Byte)\n",
            "_________________________________________________________________\n"
          ]
        }
      ]
    },
    {
      "metadata": {
        "id": "V67HLW4j_kdR"
      },
      "cell_type": "markdown",
      "source": [
        "### <a id='3.5'>3.5 Fitting model to training data</a>\n",
        "\n",
        "After the model was checked it is time to fit it to the training data. I will store the fitted model in *tracker* variable to later investigate its history."
      ]
    },
    {
      "metadata": {
        "trusted": true,
        "id": "ZYtGWo3x_kdR"
      },
      "cell_type": "code",
      "source": [
        "tracker = model.fit(X_train, y_train,\n",
        "                    batch_size=512,\n",
        "                    epochs=100,\n",
        "                    validation_data=(X_validate, y_validate),\n",
        "                    verbose=0)"
      ],
      "execution_count": null,
      "outputs": []
    },
    {
      "metadata": {
        "id": "7OyBydm5_kdR"
      },
      "cell_type": "markdown",
      "source": [
        "### <a id='3.6'>3.6 Evaluating model with a test data</a>\n",
        "\n",
        "Now the model will be evaluated on test sets."
      ]
    },
    {
      "metadata": {
        "trusted": true,
        "id": "9vjLSVaw_kdR"
      },
      "cell_type": "code",
      "source": [
        "score = model.evaluate(X_test, y_test, verbose=0)"
      ],
      "execution_count": null,
      "outputs": []
    },
    {
      "metadata": {
        "trusted": true,
        "colab": {
          "base_uri": "https://localhost:8080/"
        },
        "id": "teawSKWI_kdR",
        "outputId": "e17d8990-d87c-4dd1-8a3a-61b591901d77"
      },
      "cell_type": "code",
      "source": [
        "print('Test loss:', score[0])\n",
        "print('Test accuracy:', score[1])"
      ],
      "execution_count": null,
      "outputs": [
        {
          "output_type": "stream",
          "name": "stdout",
          "text": [
            "Test loss: 0.3815944790840149\n",
            "Test accuracy: 0.8748000264167786\n"
          ]
        }
      ]
    },
    {
      "metadata": {
        "id": "2tSpfSZR_kdR"
      },
      "cell_type": "markdown",
      "source": [
        "## <a id='4'>4. Tracking Learning</a>\n",
        "\n",
        "It is possible to monitor the learning process of our model by accessing its history with *.history* attribute of previously defined *tracker*. It is worth looking at how the loss function was developing for both testing and validation sets. It is possible to spot if we have already a problem with overfitting - test set loss function will be decreasing while validation's loss function after reaching a minimum value starts to increase again."
      ]
    },
    {
      "metadata": {
        "trusted": true,
        "colab": {
          "base_uri": "https://localhost:8080/",
          "height": 542
        },
        "id": "awR2KTlD_kdR",
        "outputId": "ba02891d-134a-4346-9c0b-64ea86d9f5b5"
      },
      "cell_type": "code",
      "source": [
        "fig, ax = plt.subplots(figsize = (8,6))\n",
        "ax.plot(tracker.history[\"loss\"], label = \"training_loss\")\n",
        "ax.plot(tracker.history[\"val_loss\"], label = \"val_loss\")\n",
        "plt.xlabel(\"epochs\")\n",
        "plt.ylabel(\"loss function\")\n",
        "ax.legend(loc = 'upper center', shadow = True,)\n",
        "plt.show()"
      ],
      "execution_count": null,
      "outputs": [
        {
          "output_type": "display_data",
          "data": {
            "text/plain": [
              "<Figure size 800x600 with 1 Axes>"
            ],
            "image/png": "[encoded data removed]"
          },
          "metadata": {}
        }
      ]
    },
    {
      "metadata": {
        "id": "EISGXPTl_kdV"
      },
      "cell_type": "markdown",
      "source": [
        "## <a id='5'>5. References and learning resources</a>\n",
        "\n",
        "1. [Keras documentation](https://keras.io/)\n",
        "2. [Tensorflow documentation](https://www.tensorflow.org/)\n",
        "3. [Pytorch documentation](https://pytorch.org/)\n",
        "4. [CNN theory on www.towarddatascience.com](https://towardsdatascience.com/deep-learning-personal-notes-part-1-lesson-3-cnn-theory-convolutional-filters-max-pooling-dbe68114848e)"
      ]
    }
  ],
  "metadata": {
    "kernelspec": {
      "language": "python",
      "display_name": "Python 3",
      "name": "python3"
    },
    "language_info": {
      "pygments_lexer": "ipython3",
      "nbconvert_exporter": "python",
      "version": "3.6.4",
      "file_extension": ".py",
      "codemirror_mode": {
        "name": "ipython",
        "version": 3
      },
      "name": "python",
      "mimetype": "text/x-python"
    },
    "colab": {
      "provenance": [],
      "include_colab_link": true
    }
  },
  "nbformat": 4,
  "nbformat_minor": 0
}