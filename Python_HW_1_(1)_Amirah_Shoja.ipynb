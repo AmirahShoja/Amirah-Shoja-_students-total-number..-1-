{
  "nbformat": 4,
  "nbformat_minor": 0,
  "metadata": {
    "colab": {
      "provenance": [],
      "include_colab_link": true
    },
    "kernelspec": {
      "name": "python3",
      "display_name": "Python 3"
    },
    "language_info": {
      "name": "python"
    }
  },
  "cells": [
    {
      "cell_type": "markdown",
      "metadata": {
        "id": "view-in-github",
        "colab_type": "text"
      },
      "source": [
        "<a href=\"https://colab.research.google.com/github/AmirahShoja/Amirah-Shoja-_students-total-number..-1-/blob/main/Python_HW_1_(1)_Amirah_Shoja.ipynb\" target=\"_parent\"><img src=\"https://colab.research.google.com/assets/colab-badge.svg\" alt=\"Open In Colab\"/></a>"
      ]
    },
    {
      "cell_type": "code",
      "execution_count": null,
      "metadata": {
        "colab": {
          "base_uri": "https://localhost:8080/"
        },
        "id": "Cd_zvIyAfEOp",
        "outputId": "4483859f-6945-4ee6-edff-ab45f5097578"
      },
      "outputs": [
        {
          "output_type": "stream",
          "name": "stdout",
          "text": [
            "Amirah\n"
          ]
        }
      ],
      "source": [
        "# Read CSV file\n",
        "# name = \"Amirah\"\n",
        "print (\"Amirah\")"
      ]
    },
    {
      "cell_type": "code",
      "source": [
        "# Read CSV file\n",
        "# age = \"24\"\n",
        "print (\"24\")"
      ],
      "metadata": {
        "colab": {
          "base_uri": "https://localhost:8080/"
        },
        "id": "y6-h_dJpvBKI",
        "outputId": "b7cc6c3c-b13f-4125-ff7d-74f26b41960a"
      },
      "execution_count": null,
      "outputs": [
        {
          "output_type": "stream",
          "name": "stdout",
          "text": [
            "24\n"
          ]
        }
      ]
    },
    {
      "cell_type": "code",
      "source": [
        "# print (f'Hello, my name is {Amirah}, {24},:) سأصبح أفضل عالم بيانات')"
      ],
      "metadata": {
        "id": "JIhp02IBvNwt"
      },
      "execution_count": null,
      "outputs": []
    }
  ]
}